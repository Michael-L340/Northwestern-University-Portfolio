version https://git-lfs.github.com/spec/v1
oid sha256:6fa193ac4cd55f68171fa2eb0ec461bed05c6391717d4819813ea1a4d23f81af
size 23720
